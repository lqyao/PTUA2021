{
 "cells": [
  {
   "cell_type": "code",
   "execution_count": 12,
   "metadata": {},
   "outputs": [
    {
     "name": "stdout",
     "output_type": "stream",
     "text": [
      "43.2\n",
      "17.20511551835674\n",
      "2828.6\n",
      "2438.9405002992594\n",
      "9911.9\n",
      "6614.606947430815\n",
      "12339.3\n",
      "8215.067237765008\n"
     ]
    }
   ],
   "source": [
    "import random\n",
    "import math\n",
    "j=0\n",
    "k=0\n",
    "m=[0.01, 0.001, 0.0001, 0.00001]\n",
    "pai=0\n",
    "d=[0,0,0,0,0,0,0,0,0,0]\n",
    "for i in range(4):\n",
    "    for n in range(10):\n",
    "        j=0\n",
    "        k=0\n",
    "        pai=0\n",
    "        while abs(pai-math.pi)/math.pi>m[i]:\n",
    "            j=j+1\n",
    "            a=random.uniform(-1,1)\n",
    "            b=random.uniform(-1,1)\n",
    "            c=a*a+b*b\n",
    "            if c<=1:\n",
    "                k=k+1\n",
    "                pai=4*k/j\n",
    "            else:\n",
    "                pai=4*k/j\n",
    "        d[n]=j\n",
    "    sum=0\n",
    "    sd2=0\n",
    "    for h in range(10):\n",
    "        sum=sum+d[h]\n",
    "    for h in range(10):\n",
    "        sd2=sd2+(sum/10-d[h])*(sum/10-d[h])\n",
    "    print(sum/10)\n",
    "    print(math.sqrt(sd2)/10)"
   ]
  },
  {
   "cell_type": "markdown",
   "metadata": {},
   "source": [
    "It seems it can run properly, but I have no idea how to test if there is something wrong in the code."
   ]
  }
 ],
 "metadata": {
  "kernelspec": {
   "display_name": "Python 3",
   "language": "python",
   "name": "python3"
  },
  "language_info": {
   "codemirror_mode": {
    "name": "ipython",
    "version": 3
   },
   "file_extension": ".py",
   "mimetype": "text/x-python",
   "name": "python",
   "nbconvert_exporter": "python",
   "pygments_lexer": "ipython3",
   "version": "3.8.5"
  }
 },
 "nbformat": 4,
 "nbformat_minor": 4
}
