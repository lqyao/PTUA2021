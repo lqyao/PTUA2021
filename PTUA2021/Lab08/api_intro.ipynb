{
 "cells": [
  {
   "cell_type": "code",
   "execution_count": 2,
   "metadata": {
    "collapsed": false,
    "deletable": true,
    "editable": true,
    "pycharm": {
     "is_executing": false,
     "name": "#%%\n"
    }
   },
   "outputs": [],
   "source": [
    "import json\n",
    "import gdal\n",
    "import fiona\n",
    "import pandas as pd\n",
    "import geopandas as gpd\n",
    "import requests\n",
    "import geopy\n",
    "import statsmodels\n",
    "\n",
    "# On windows, some of these libraries cannot be installed right away with pip. \n",
    "# Especially gdal and fiona. \n",
    "# if you have problems try to use the windows binaries from \n",
    "# https://www.lfd.uci.edu/~gohlke/pythonlibs/"
   ]
  },
  {
   "cell_type": "markdown",
   "metadata": {
    "deletable": true,
    "editable": true,
    "pycharm": {
     "name": "#%% md\n"
    }
   },
   "source": [
    "Web Api Tutorial.\n",
    "\n",
    "FAQ: \n",
    "1.  What is an API? \n",
    "   \n",
    "    An API (Application Programming Interface) broadly speaking, is a collection of \n",
    "    functions that  usually other programs use to interact with your program.\n",
    "    As such indented users, normally are shielded from *implementation* of the \n",
    "    particulars of the code are just exposed to what is important. \n",
    "1. What is a Web API.\n",
    "    \n",
    "    Similar in nature, a web api, is a collection of *endpoints* that users can contact to initiate a remote procedure. \n",
    "    Usually that remote procedure returns a kind of result, typically in a form of a string.\n",
    "    \n",
    "    For 90% of the cases, that string contains the information that we are interested about and \n",
    "    and is structured that could be parsed as JSON. e.g. :\n",
    "    \n",
    "    ```text\n",
    "    '{  \n",
    "       \"id\" : 1,   \n",
    "       \"data\": {\"name\": \"Nikos\", \"age\": 35, \"gender\": \"male\", \"height\": 178}       \n",
    "    }'\n",
    "    ```\n",
    "   \n",
    "   When that string is parsable as JSON, it's called *json string*\n",
    "1. What is a JSON\n",
    "\n",
    "    JSON are initials, meaning  **J**ava**S**cript **O**bject **N**otation. \n",
    "    \n",
    "    It is a lightweight data structure format, and primerly aimed to be used with JavaScript, \n",
    "    the main language web browesers use. \n",
    "    \n",
    "    Python has it's own json parsing library to parse and create json strings. \n",
    "    It's parsing the json's to a python dictionary. For example for the above json string:    "
   ]
  },
  {
   "cell_type": "code",
   "execution_count": 14,
   "metadata": {
    "collapsed": false,
    "deletable": true,
    "editable": true,
    "pycharm": {
     "is_executing": false,
     "name": "#%% \n"
    }
   },
   "outputs": [
    {
     "name": "stdout",
     "output_type": "stream",
     "text": [
      "<class 'dict'>\n",
      "{'age': 35, 'gender': 'male', 'height': 178, 'name': 'Nikos'}\n",
      "<class 'dict'>\n",
      "this is the key: name\n",
      "this is the key: name\n",
      "this is the key: name\n",
      "this is the key: name\n",
      "Key: NAME has value: Nikos\n",
      "this is the key: age\n",
      "this is the key: age\n",
      "this is the key: age\n",
      "this is the key: age\n",
      "Key: AGE has value: 35\n",
      "this is the key: gender\n",
      "this is the key: gender\n",
      "this is the key: gender\n",
      "this is the key: gender\n",
      "Key: GENDER has value: male\n",
      "this is the key: height\n",
      "this is the key: height\n",
      "this is the key: height\n",
      "this is the key: height\n",
      "Key: HEIGHT has value: 178\n"
     ]
    }
   ],
   "source": [
    "import json\n",
    "import pprint\n",
    "json_string = '{ \"id\" : 1, \"data\": {\"name\": \"Nikos\", \"age\": 35, \"gender\": \"male\", \"height\": 178}}'\n",
    "d = json.loads(json_string)\n",
    "\n",
    "print(type(d))\n",
    "\n",
    "data = d['data']\n",
    "pprint.pprint(data)\n",
    "print(type(data))\n",
    "for key,value in data.items():\n",
    "    print('this is the key: %s' % key)\n",
    "    print('this is the key: {0}'.format(key))\n",
    "    print('this is the key: {key}'.format(key=key))\n",
    "    print(f'this is the key: {key}')\n",
    "    \n",
    "    # I use the *f expresions* to interpolate the variables in the string Templates. \n",
    "    print(f\"Key: {key.upper()} has value: {value}\")\n",
    "    "
   ]
  },
  {
   "cell_type": "markdown",
   "metadata": {
    "deletable": true,
    "editable": true
   },
   "source": [
    "To communicate with a remote server, theoretically you don't need anything as Python comes with a complete set of modules that can do that.\n",
    "\n",
    "Practically, as it is aimed mostly for programmers, you would be using a widely popular python package\n",
    "called '[Requests](https://requests.readthedocs.io/en/master/)'  \n",
    "\n",
    "A 'higher' level python package that helps to send HTTP/1.1 requests. \n",
    "It's build around pythons build-in 'lower' level web libraries. \n",
    "\n",
    "\n",
    " ```bash\n",
    "pip install requests\n",
    "```\n",
    "\n",
    "After it's installed, making web requests, it's much more straightforward:\n",
    "\n",
    "```python\n",
    "# Fetching Chuck Norris Jokes from the Internet Chuck Noris Database.\n",
    "# http://www.icndb.com/api/\n",
    "\n",
    "import requests\n",
    "# Create a Request object from that URL\n",
    "r = requests.get('http://api.icndb.com/jokes/random?limitTo=[nerdy]')\n",
    "# Parse the data to a dictionary with the .json() function available\n",
    "data = r.json()\n",
    "print('{joke}'.format(joke=data['value']['joke']))\n",
    "# Chuck Norris types with one finger. He points it at the keyboard and the keyboard does the rest.\n",
    "\n",
    "```"
   ]
  },
  {
   "cell_type": "code",
   "execution_count": 20,
   "metadata": {
    "collapsed": false
   },
   "outputs": [
    {
     "name": "stdout",
     "output_type": "stream",
     "text": [
      "Chuck Norris hosting is 101% uptime guaranteed.\n"
     ]
    }
   ],
   "source": [
    "import requests\n",
    "# Create a Request object from that URL\n",
    "r = requests.get('http://api.icndb.com/jokes/random?limitTo=[nerdy]')\n",
    "# Parse the data to a dictionary with the .json() function available\n",
    "data = r.json()\n",
    "print('{joke}'.format(joke=data['value']['joke']))\n",
    "# Chuck Norris types with one finger. He points it at the keyboard and the keyboard does the rest."
   ]
  },
  {
   "cell_type": "code",
   "execution_count": 22,
   "metadata": {
    "collapsed": false
   },
   "outputs": [
    {
     "data": {
      "text/plain": [
       "{'type': 'success',\n",
       " 'value': {'id': 498,\n",
       "  'joke': 'Chuck Norris hosting is 101% uptime guaranteed.',\n",
       "  'categories': ['nerdy']}}"
      ]
     },
     "execution_count": 22,
     "metadata": {},
     "output_type": "execute_result"
    }
   ],
   "source": [
    "r.json()"
   ]
  },
  {
   "cell_type": "code",
   "execution_count": 23,
   "metadata": {
    "collapsed": false
   },
   "outputs": [
    {
     "name": "stdout",
     "output_type": "stream",
     "text": [
      "{'type': 'success',\n",
      " 'value': {'categories': ['nerdy'],\n",
      "           'id': 498,\n",
      "           'joke': 'Chuck Norris hosting is 101% uptime guaranteed.'}}\n"
     ]
    }
   ],
   "source": [
    "import pprint\n",
    "pprint.pprint(r.json())"
   ]
  },
  {
   "cell_type": "code",
   "execution_count": 24,
   "metadata": {
    "collapsed": false,
    "deletable": true,
    "editable": true,
    "pycharm": {
     "is_executing": false,
     "name": "#%%\n"
    }
   },
   "outputs": [
    {
     "name": "stdout",
     "output_type": "stream",
     "text": [
      "{ \"type\": \"success\", \"value\": { \"id\": 393, \"joke\": \"Chuck Norris runs on batteries. Specifically, Die Hards.\", \"categories\": [] } }\n",
      "<class 'str'>\n",
      "\n",
      "<class 'dict'>\n",
      "{'type': 'success',\n",
      " 'value': {'categories': [],\n",
      "           'id': 393,\n",
      "           'joke': 'Chuck Norris runs on batteries. Specifically, Die Hards.'}}\n",
      "Chuck Norris runs on batteries. Specifically, Die Hards.\n"
     ]
    }
   ],
   "source": [
    "# Example: \n",
    "# Get some information from an end point: \n",
    "\n",
    "import requests\n",
    "import pprint #  pretty print\n",
    "\n",
    "res = requests.get('http://api.icndb.com/jokes/random')\n",
    "\n",
    "print(res.text)\n",
    "print(type(res.text))\n",
    "print()\n",
    "d = res.json()  # parse the response to a dictionary. \n",
    "print(type(d))\n",
    "pprint.pprint(d)\n",
    "\n",
    "# if you want to access somethign inside a dictionary, you can traverse to using it's key:\n",
    "value = d['value']\n",
    "joke = value['joke']\n",
    "print(joke)"
   ]
  },
  {
   "cell_type": "markdown",
   "metadata": {
    "deletable": true,
    "editable": true,
    "pycharm": {
     "name": "#%% md\n"
    }
   },
   "source": [
    "A rest api is dynamic in nature.\n",
    " \n",
    "That means that the server can identify parameters \n",
    "that the client (you, or your program) is sending to him as part of your request. \n",
    "\n",
    "The server then can act on these parameters.\n",
    "\n",
    "Usually the provider, provide some kind of documentation, \n",
    "which they have catalogued the name of the parameters, their types and their meaning. \n"
   ]
  },
  {
   "cell_type": "code",
   "execution_count": 31,
   "metadata": {
    "collapsed": false,
    "deletable": true,
    "editable": true,
    "pycharm": {
     "is_executing": false,
     "name": "#%%\n"
    }
   },
   "outputs": [
    {
     "name": "stdout",
     "output_type": "stream",
     "text": [
      "1: Contrary to popular belief, the Titanic didn't hit an iceberg. The ship was off course and ran into Chuck Norris while he was doing the backstroke across the Atlantic.\n",
      "2: Chuck Norris uses ribbed condoms inside out, so he gets the pleasure.\n",
      "3: Chuck Norris can touch MC Hammer.\n",
      "4: President Roosevelt once rode his horse 100 miles. Chuck Norris carried his the same distance in half the time.\n",
      "5: All roads lead to Chuck Norris. And by the transitive property, a roundhouse kick to the face.\n",
      "6: If, by some incredible space-time paradox, Chuck Norris would ever fight himself, he'd win. Period.\n"
     ]
    }
   ],
   "source": [
    "# Parameter Example\n",
    "# Documentation about this API: \n",
    "# http://www.icndb.com/api/\n",
    "\n",
    "import requests\n",
    "# that API also supports returning multiple jokes at once. \n",
    "# .../jokes/random/<number_of_jokes>\n",
    "\n",
    "r = requests.get('http://api.icndb.com/jokes/random/6')\n",
    "data = r.json()\n",
    "\n",
    "idx = 1\n",
    "for joke_entry in data['value']: \n",
    "    print('{idx}: {joke}'.format(idx=idx,joke=joke_entry['joke']))\n",
    "    idx += 1\n"
   ]
  },
  {
   "cell_type": "code",
   "execution_count": 29,
   "metadata": {
    "collapsed": false
   },
   "outputs": [
    {
     "data": {
      "text/plain": [
       "[{'id': 351,\n",
       "  'joke': 'In a tagteam match, Chuck Norris was teamed with Hulk Hogan against King Kong Bundy and Andre The Giant. He pinned all 3 at the same time.',\n",
       "  'categories': []},\n",
       " {'id': 219,\n",
       "  'joke': 'Chuck Norris does not own a house. He walks into random houses and people move.',\n",
       "  'categories': []},\n",
       " {'id': 34,\n",
       "  'joke': 'The opening scene of the movie &quot;Saving Private Ryan&quot; is loosely based on games of dodgeball Chuck Norris played in second grade.',\n",
       "  'categories': []},\n",
       " {'id': 69,\n",
       "  'joke': 'Scientists have estimated that the energy given off during the Big Bang is roughly equal to 1CNRhK (Chuck Norris Roundhouse Kick).',\n",
       "  'categories': ['nerdy']},\n",
       " {'id': 609,\n",
       "  'joke': \"There was never anything wrong with Achilles' heel until he got mad and decided to kick Chuck Norris.\",\n",
       "  'categories': []},\n",
       " {'id': 112,\n",
       "  'joke': 'The Bermuda Triangle used to be the Bermuda Square, until Chuck Norris Roundhouse kicked one of the corners off.',\n",
       "  'categories': []},\n",
       " {'id': 72,\n",
       "  'joke': 'How much wood would a woodchuck chuck if a woodchuck could Chuck Norris? All of it.',\n",
       "  'categories': []},\n",
       " {'id': 500,\n",
       "  'joke': 'Chuck Norris can access the DB from the UI.',\n",
       "  'categories': ['nerdy']},\n",
       " {'id': 466,\n",
       "  'joke': \"Chuck Norris doesn't do Burn Down charts, he does Smack Down charts.\",\n",
       "  'categories': ['nerdy']},\n",
       " {'id': 389,\n",
       "  'joke': 'Chuck Norris has banned rainbows from the state of North Dakota.',\n",
       "  'categories': []}]"
      ]
     },
     "execution_count": 29,
     "metadata": {},
     "output_type": "execute_result"
    }
   ],
   "source": [
    "data['value']"
   ]
  },
  {
   "cell_type": "code",
   "execution_count": 5,
   "metadata": {
    "collapsed": false,
    "deletable": true,
    "editable": true,
    "pycharm": {
     "is_executing": false,
     "name": "#%% \n"
    }
   },
   "outputs": [
    {
     "name": "stdout",
     "output_type": "stream",
     "text": [
      "1: Chuck Norris can delete the Recycling Bin.\n",
      "2: All browsers support the hex definitions #chuck and #norris for the colors black and blue.\n",
      "3: Chuck Norris doesn't need a keyboard he tells the computer to write something and it does.\n",
      "4: To Chuck Norris, everything contains a vulnerability.\n"
     ]
    }
   ],
   "source": [
    "# Also he also declares that we can limit the jokes to a certain category:\n",
    "r = requests.get('http://api.icndb.com/jokes/random/4?limitTo=[nerdy]')\n",
    "data = r.json()\n",
    "\n",
    "# enumerate is a 'build-in' python function to help you, \n",
    "# instead of writing the (idx =1 ... idx = idx + 1) pattern\n",
    "for idx, joke_entry in enumerate(data['value'],1): \n",
    "    print('{idx}: {joke}'.format(idx=idx,joke=joke_entry['joke']))\n"
   ]
  },
  {
   "cell_type": "markdown",
   "metadata": {
    "deletable": true,
    "editable": true,
    "pycharm": {
     "name": "#%% md\n"
    }
   },
   "source": [
    "Obviously, there is a lot of repetition, so when that is happening it is always \n",
    "it is always a good idea not to repeat yourself, by generalising. \n",
    "In this case, we can construct a function does all the  steps:\n"
   ]
  },
  {
   "cell_type": "code",
   "execution_count": 6,
   "metadata": {
    "collapsed": true,
    "deletable": true,
    "editable": true,
    "pycharm": {
     "is_executing": false,
     "name": "#%%\n"
    }
   },
   "outputs": [],
   "source": [
    "import requests\n",
    "\n",
    "def get_jokes(how_many=2, nerdy_only=True, verbose=False):\n",
    "    \"\"\" Get a number of jokes from the Internet Chuck Norris Database. \n",
    "    Returns a list of Dictionaries. \n",
    "    Will raise an exception if if the server cannot complete our request \"\"\"\n",
    "    request_url = 'http://api.icndb.com/jokes/random/'\n",
    "    if int(how_many)>0:\n",
    "        request_url += str(how_many)\n",
    "    if nerdy_only:\n",
    "        request_url += '?limitTo=[nerdy]'\n",
    "    if verbose:\n",
    "        print(request_url)\n",
    "    r = requests.get(request_url)\n",
    "    r.raise_for_status() \n",
    "    \n",
    "    return r.json()['value']"
   ]
  },
  {
   "cell_type": "code",
   "execution_count": 7,
   "metadata": {
    "collapsed": false,
    "deletable": true,
    "editable": true,
    "pycharm": {
     "is_executing": false,
     "name": "#%%\n"
    }
   },
   "outputs": [
    {
     "name": "stdout",
     "output_type": "stream",
     "text": [
      "http://api.icndb.com/jokes/random/2?limitTo=[nerdy]\n"
     ]
    },
    {
     "data": {
      "text/plain": [
       "[{'id': 479,\n",
       "  'joke': 'Chuck Norris does not need to know about class factory pattern. He can instantiate interfaces.',\n",
       "  'categories': ['nerdy']},\n",
       " {'id': 494,\n",
       "  'joke': 'Chuck Norris breaks RSA 128-bit encrypted codes in milliseconds.',\n",
       "  'categories': ['nerdy']}]"
      ]
     },
     "execution_count": 7,
     "metadata": {},
     "output_type": "execute_result"
    }
   ],
   "source": [
    "get_jokes(how_many=2, nerdy_only=True, verbose=True)"
   ]
  },
  {
   "cell_type": "code",
   "execution_count": 35,
   "metadata": {
    "collapsed": false
   },
   "outputs": [
    {
     "data": {
      "text/plain": [
       "200"
      ]
     },
     "execution_count": 35,
     "metadata": {},
     "output_type": "execute_result"
    }
   ],
   "source": [
    "# https://developer.mozilla.org/en-US/docs/Web/HTTP/Status\n",
    "r.status_code"
   ]
  },
  {
   "cell_type": "code",
   "execution_count": 8,
   "metadata": {
    "collapsed": false,
    "deletable": true,
    "editable": true,
    "pycharm": {
     "is_executing": false,
     "name": "#%%\n"
    }
   },
   "outputs": [
    {
     "name": "stdout",
     "output_type": "stream",
     "text": [
      "1. Chuck Norris's first program was kill -9.\n",
      "2. When Chuck Norris throws exceptions, it's across the room.\n",
      "3. Chuck Norris once sued Burger King after they refused to put razor wire in his Whopper Jr, insisting that that actually is &quot;his&quot; way.\n",
      "4. The grass is always greener on the other side, unless Chuck Norris has been there. In that case the grass is most likely soaked in blood and tears.\n",
      "5. Chuck Norris uses tabasco sauce instead of visine.\n"
     ]
    }
   ],
   "source": [
    "jokes = get_jokes(5,nerdy_only=False)\n",
    "for idx, joke in enumerate(jokes,1):\n",
    "    print(idx, joke['joke'], sep='. ')"
   ]
  },
  {
   "cell_type": "markdown",
   "metadata": {
    "deletable": true,
    "editable": true
   },
   "source": [
    "### Airbnb Data. \n"
   ]
  },
  {
   "cell_type": "markdown",
   "metadata": {
    "deletable": true,
    "editable": true,
    "pycharm": {
     "name": "#%% md\n"
    }
   },
   "source": [
    "UBDC is collecting public data from airbnb, regarding the listings, their locations and relevant information. \n",
    "\n",
    "Part of that service is to create a web API, where reserchers could connect and request data for their analyses. \n",
    "\n",
    "The work is still yet in-progress, with many things still planned but not implemented it. "
   ]
  },
  {
   "cell_type": "markdown",
   "metadata": {
    "deletable": true,
    "editable": true
   },
   "source": [
    "#### TimeSeries"
   ]
  },
  {
   "cell_type": "code",
   "execution_count": 36,
   "metadata": {
    "collapsed": true,
    "deletable": true,
    "editable": true,
    "pycharm": {
     "is_executing": false,
     "name": "#%%\n"
    }
   },
   "outputs": [],
   "source": [
    "# Make subsequent  any plots a little bigger\n",
    "import matplotlib.pyplot as plt\n",
    "# plt.rcParams[\"figure.figsize\"] = (4,3)\n",
    "plt.rcParams[\"figure.dpi\"] = 125"
   ]
  },
  {
   "cell_type": "markdown",
   "metadata": {
    "deletable": true,
    "editable": true
   },
   "source": [
    "Airbnb does not give direct information about how amny bookings are made through her platform.  \n",
    "Interestingly enough, we can see the comments per listings when we navigate in their website.\n",
    "\n",
    "eg: For the this listing: [3740403](https://www.airbnb.co.uk/rooms/3740403), if we navigate at it page, \n",
    "we can see it has more than 700 reviews. These reviews could serve as an indirect way to calculate a sense of \n",
    "what is happening.\n",
    "\n",
    "So far, we have scollected all the comments from the City of Edinburgh for all the listings. And the first API \n",
    "end point that we can explore serves that as a timeseries [http://130.209.67.121/api/reports/comments_ts]\n",
    " "
   ]
  },
  {
   "cell_type": "code",
   "execution_count": 54,
   "metadata": {
    "collapsed": false,
    "deletable": true,
    "editable": true,
    "pycharm": {
     "is_executing": false,
     "name": "#%%\n"
    }
   },
   "outputs": [
    {
     "name": "stdout",
     "output_type": "stream",
     "text": [
      "1 2010-08-01T00:00:00 2\n",
      "2 2010-09-01T00:00:00 6\n",
      "3 2010-10-01T00:00:00 1\n",
      "4 2010-11-01T00:00:00 2\n",
      "5 2010-12-01T00:00:00 3\n",
      "6 2011-01-01T00:00:00 5\n",
      "7 2011-02-01T00:00:00 2\n",
      "8 2011-03-01T00:00:00 6\n",
      "9 2011-04-01T00:00:00 13\n",
      "10 2011-05-01T00:00:00 16\n"
     ]
    }
   ],
   "source": [
    "import pandas\n",
    "import requests\n",
    "import pprint\n",
    "# we can modify the request to to ask the api to group the comments in this AOI per weeks, months or days. \n",
    "# I've disabled a lower interval, as it was too calculative intensive ...for now\n",
    "comments_ts_endoing = 'http://130.209.67.121/api/reports/comments_ts?aoi_pk=1&interval=months'\n",
    "res = requests.get(comments_ts_endoing)\n",
    "data = res.json()[0]['data']\n",
    "\n",
    "for idx,(datetime_string,number_of_comments) in enumerate(data,1):\n",
    "    if idx > 10:\n",
    "        break\n",
    "    print(idx,datetime_string,number_of_comments)"
   ]
  },
  {
   "cell_type": "markdown",
   "metadata": {
    "deletable": true,
    "editable": true
   },
   "source": []
  },
  {
   "cell_type": "code",
   "execution_count": 55,
   "metadata": {
    "collapsed": false,
    "deletable": true,
    "editable": true,
    "pycharm": {
     "is_executing": false,
     "name": "#%%\n"
    }
   },
   "outputs": [
    {
     "name": "stdout",
     "output_type": "stream",
     "text": [
      "<class 'pandas.core.frame.DataFrame'>\n",
      "DatetimeIndex: 115 entries, 2010-08-01 to 2020-02-01\n",
      "Data columns (total 1 columns):\n",
      "number_of_comments    115 non-null int64\n",
      "dtypes: int64(1)\n",
      "memory usage: 1.8 KB\n"
     ]
    },
    {
     "data": {
      "text/html": [
       "<div>\n",
       "<style scoped>\n",
       "    .dataframe tbody tr th:only-of-type {\n",
       "        vertical-align: middle;\n",
       "    }\n",
       "\n",
       "    .dataframe tbody tr th {\n",
       "        vertical-align: top;\n",
       "    }\n",
       "\n",
       "    .dataframe thead th {\n",
       "        text-align: right;\n",
       "    }\n",
       "</style>\n",
       "<table border=\"1\" class=\"dataframe\">\n",
       "  <thead>\n",
       "    <tr style=\"text-align: right;\">\n",
       "      <th></th>\n",
       "      <th>number_of_comments</th>\n",
       "    </tr>\n",
       "    <tr>\n",
       "      <th>datetime</th>\n",
       "      <th></th>\n",
       "    </tr>\n",
       "  </thead>\n",
       "  <tbody>\n",
       "    <tr>\n",
       "      <td>2010-08-01</td>\n",
       "      <td>2</td>\n",
       "    </tr>\n",
       "    <tr>\n",
       "      <td>2010-09-01</td>\n",
       "      <td>6</td>\n",
       "    </tr>\n",
       "    <tr>\n",
       "      <td>2010-10-01</td>\n",
       "      <td>1</td>\n",
       "    </tr>\n",
       "    <tr>\n",
       "      <td>2010-11-01</td>\n",
       "      <td>2</td>\n",
       "    </tr>\n",
       "    <tr>\n",
       "      <td>2010-12-01</td>\n",
       "      <td>3</td>\n",
       "    </tr>\n",
       "  </tbody>\n",
       "</table>\n",
       "</div>"
      ],
      "text/plain": [
       "            number_of_comments\n",
       "datetime                      \n",
       "2010-08-01                   2\n",
       "2010-09-01                   6\n",
       "2010-10-01                   1\n",
       "2010-11-01                   2\n",
       "2010-12-01                   3"
      ]
     },
     "execution_count": 55,
     "metadata": {},
     "output_type": "execute_result"
    }
   ],
   "source": [
    "# Let's plot the data, for an initial view\n",
    "\n",
    "# firstly we need to 'parse' the datetime strings to datetime objects that they are used to represent time point\n",
    "df = pandas.DataFrame(data,columns=['datetime','number_of_comments'])\n",
    "df['datetime'] = pandas.to_datetime(df['datetime'])\n",
    "\n",
    "# then set the datetime column as index\n",
    "df = df.set_index('datetime')\n",
    "df.info()\n",
    "df.head()"
   ]
  },
  {
   "cell_type": "code",
   "execution_count": 56,
   "metadata": {
    "collapsed": false,
    "deletable": true,
    "editable": true,
    "pycharm": {
     "is_executing": false,
     "name": "#%%\n"
    }
   },
   "outputs": [
    {
     "data": {
      "text/plain": [
       "<matplotlib.axes._subplots.AxesSubplot at 0x12d164748>"
      ]
     },
     "execution_count": 56,
     "metadata": {},
     "output_type": "execute_result"
    },
    {
     "data": {
      "image/png": "[encoded data removed]",
      "text/plain": [
       "<Figure size 432x288 with 1 Axes>"
      ]
     },
     "metadata": {
      "needs_background": "light"
     },
     "output_type": "display_data"
    }
   ],
   "source": [
    "# and now we can plot using padnas .plot convience function\n",
    "df.plot()"
   ]
  },
  {
   "cell_type": "markdown",
   "metadata": {
    "deletable": true,
    "editable": true
   },
   "source": [
    "## Hmm, the data seem to have a seasonal aspect: At summer time the commments are increasing, while at winter time they seem to be lower. \n",
    "\n",
    "This effect is called seasonality, and can be seen in many datasets that represent event that are sensitive to periodic effects. \n",
    "\n",
    "Like airplane tickets or hotel bookings. During holiday periods you would expect higher sales, and during offseasons less sales."
   ]
  },
  {
   "cell_type": "markdown",
   "metadata": {
    "deletable": true,
    "editable": true
   },
   "source": [
    "In the recent years, Timeseries analysis libraries have been developed for python that make the decomposition (=decomposing a time series to its elements: trent, seasonality, and noise) of Timeseries data much easier of what it used to be, and a much valuable tool for data exploration.\n",
    "\n",
    "Be careful though, although it is seems easy TS analysis is a beast in itself.\n"
   ]
  },
  {
   "cell_type": "code",
   "execution_count": 57,
   "metadata": {
    "collapsed": false,
    "deletable": true,
    "editable": true,
    "pycharm": {
     "is_executing": false,
     "name": "#%%\n"
    },
    "scrolled": true
   },
   "outputs": [
    {
     "data": {
      "image/png": "[encoded data removed]",
      "text/plain": [
       "<Figure size 432x288 with 4 Axes>"
      ]
     },
     "metadata": {
      "needs_background": "light"
     },
     "output_type": "display_data"
    }
   ],
   "source": [
    "import statsmodels.api as sm\n",
    "# https://www.statsmodels.org/stable/generated/statsmodels.tsa.seasonal.seasonal_decompose.html\n",
    "# decompose the timeseries to its elements using a naive model:\n",
    "decomposition = sm.tsa.seasonal_decompose(df, model='additive')\n",
    "\n",
    "# and plot them to see the elements sepereratly. \n",
    " \n",
    "fig = decomposition.plot()"
   ]
  },
  {
   "cell_type": "markdown",
   "metadata": {
    "deletable": true,
    "editable": true
   },
   "source": [
    "Remember the timeseries of the observed values are f(t) = Trend(t) + Seasonality(t) + Error(t)\n",
    "The rule of thumb to see if a model is performing, is the errors chart: It should be as close to zero as possible.\n",
    "\n",
    "In this case we can see the the residuals as orbiting 0 until late 2018. After that they start to get move away from the zero line, which means that from that date onwards our model is not very good explaining the observations and maybe needs further refining. \n",
    "\n",
    "But it's a good start !"
   ]
  },
  {
   "cell_type": "markdown",
   "metadata": {
    "deletable": true,
    "editable": true
   },
   "source": [
    "#### Geocoding"
   ]
  },
  {
   "cell_type": "markdown",
   "metadata": {
    "deletable": true,
    "editable": true
   },
   "source": [
    "Usually rest api serve data from their databases. And usually they give ways for clients to queury their data according to their needs. \n",
    "\n",
    "In the same airbnb context, the api can understand a location, and return the listings that are found within the specified range around it. \n",
    "\n",
    "Conceptually it can answer to this question:\n",
    "\n",
    "> Which listings are within X metres around the Y location?\n"
   ]
  },
  {
   "cell_type": "code",
   "execution_count": 23,
   "metadata": {
    "collapsed": false,
    "deletable": true,
    "editable": true,
    "pycharm": {
     "is_executing": false,
     "name": "#%%\n"
    }
   },
   "outputs": [
    {
     "name": "stdout",
     "output_type": "stream",
     "text": [
      "http://130.209.67.121/api/data/listings?lat=55.94227871136693&lon=-3.223114013671875&page=2&radius=500\n",
      "http://130.209.67.121/api/data/listings?lat=55.94227871136693&lon=-3.223114013671875&page=3&radius=500\n",
      "http://130.209.67.121/api/data/listings?lat=55.94227871136693&lon=-3.223114013671875&page=4&radius=500\n",
      "http://130.209.67.121/api/data/listings?lat=55.94227871136693&lon=-3.223114013671875&page=5&radius=500\n"
     ]
    }
   ],
   "source": [
    "from pathlib import Path\n",
    "from io import BytesIO\n",
    "import requests\n",
    "import geopandas\n",
    "\n",
    "listings_endpoint = 'http://130.209.67.121/api/data/listings'\n",
    "DEFAULT_RADIUS = 500\n",
    "\n",
    "def random_point_param(radius=DEFAULT_RADIUS)->dict:\n",
    "    \"\"\" Returns a parameter dictionary to be used in a request to ubdc listings endpoint\"\"\"\n",
    "    centroids_gdf = geopandas.read_file('centroids.json')\n",
    "    random_entry = centroids_gdf.sample().to_dict('r')[0]\n",
    "    random_entry.pop('geometry')\n",
    "    # rename keys to be more aligned to ubdc rest api\n",
    "    random_entry['lon'] = random_entry.pop('xcoord')\n",
    "    random_entry['lat'] = random_entry.pop('ycoord')\n",
    "    random_entry['radius'] = radius\n",
    "    return random_entry\n",
    "\n",
    "params = random_point_param()\n",
    "\n",
    "######################################################\n",
    "\n",
    "res = requests.get(listings_endpoint,params=params)\n",
    "res.raise_for_status()\n",
    "\n",
    "\n",
    "###  constct a dataframe from the result\n",
    "# \n",
    "# we know that the response of our end point is a valid geojson, a file well known to geopandas.\n",
    "# 'normally' because the way geopandas operates; we would have saved the result to a file and then read it afterwards\n",
    "# but instead we are taking a shortcut. \n",
    "# We are saving it to memory using the BytesIO object from io library, \n",
    "# which returns an object that implements the interface geopandas expects.\n",
    "# the .contents method returns the response form the server in bytes\n",
    "\n",
    "listings_df = geopandas.read_file(BytesIO(res.content))\n",
    "\n",
    "# Sometimes, when the data are too many, they come back in in batches -i.e. 25 at the time. So if your query \n",
    "# would return 250, you would get 10 pages containing 25 results in each page. \n",
    "# \n",
    "# The following code is working in that assumption:\n",
    "# \n",
    "# If the key 'next' in the dictionaric represantation has a value, that means there is a 'next' page.\n",
    "# get the contents, and append them to the original dataframe\n",
    "\n",
    "while res.json()['next']:\n",
    "\n",
    "    res = requests.get(res.json()['next'])\n",
    "    \n",
    "    res.raise_for_status()\n",
    "    \n",
    "    print(res.url)\n",
    "    \n",
    "    this_page = geopandas.read_file(BytesIO(res.content))\n",
    "    \n",
    "    listings_df.append(this_page)\n",
    "    "
   ]
  },
  {
   "cell_type": "code",
   "execution_count": 24,
   "metadata": {
    "collapsed": true,
    "deletable": true,
    "editable": true,
    "pycharm": {
     "is_executing": false,
     "name": "#%%\n"
    }
   },
   "outputs": [],
   "source": [
    "from geopy.geocoders import Nominatim\n",
    "from geopy.extra.rate_limiter import RateLimiter\n",
    "\n",
    "# here we create a geolocator, using Nominatim; Operated by OpenStreetsMaps. \n",
    "# Other providers exist, like google, Bing, and more, but typically they require an API Key to identify yourself.\n",
    "# a list of supported geocoders along how your can use them can be found here:\n",
    "# https://geopy.readthedocs.io/en/stable/#module-geopy.geocoders\n",
    "geolocator = Nominatim(user_agent=\"ubdc_lab\")\n",
    "\n",
    "# when talking to a public api, ususally to provide fair service to all they employ Quality of Service Tactics,\n",
    "# which usually limiting the rate of requests cna on ask. If you start requesting more from what they allow, they \n",
    "# will eventually 'block' any requests comming from your API for a set amount of time. \n",
    "# if you want to learn more about it here: https://www.nginx.com/blog/rate-limiting-nginx/\n",
    "\n",
    "# The RateLimiter object bellow is designed for such occasions: normally python would run the request operation \n",
    "# as fast as possible, which could block our IP by their automatic guardians. To avoid that, the RateLimiter, 'slows' \n",
    "# the rate of request to a prespecified time: \n",
    "\n",
    "\n",
    "reverse_geocode = RateLimiter(geolocator.reverse,min_delay_seconds=1)\n",
    "\n"
   ]
  },
  {
   "cell_type": "code",
   "execution_count": 25,
   "metadata": {
    "collapsed": true,
    "deletable": true,
    "editable": true
   },
   "outputs": [],
   "source": [
    "import ssl\n",
    "import geopy.geocoders\n",
    "ctx = ssl.create_default_context()\n",
    "ctx.check_hostname = False\n",
    "ctx.verify_mode = ssl.CERT_NONE\n",
    "geopy.geocoders.options.default_ssl_context = ctx"
   ]
  },
  {
   "cell_type": "code",
   "execution_count": 26,
   "metadata": {
    "collapsed": false,
    "deletable": true,
    "editable": true
   },
   "outputs": [],
   "source": [
    "# Remember; the more the entries you have, more time it will take to finish.  \n",
    "# so in the intrest of saving time now, lets operate only in a sample of 25 listings.\n",
    "\n",
    "# pick 25 rows random rows from the dataframe\n",
    "if len(listings_df) >= 25:\n",
    "    listings_df_sample = listings_df.sample(25)\n",
    "else:\n",
    "    listings_df_sample = listings_df.copy()\n",
    "\n",
    "\n",
    "# Apply the reverse geocode, parametrasising form the geometry object. It will create a Location object. \n",
    "\n",
    "# one can access the longitude and latitude information frmo the .y and .x functions  \n",
    "listings_df_sample['location'] = listings_df_sample['geometry'].apply(lambda geom_object: reverse_geocode(f'{geom_object.y} {geom_object.x}'))\n",
    "\n",
    "# Location objects give the address comportment using the .address method.   \n",
    "listings_df_sample['address'] = listings_df_sample['location'].apply(lambda entry: entry.address)"
   ]
  },
  {
   "cell_type": "code",
   "execution_count": 27,
   "metadata": {
    "collapsed": false,
    "deletable": true,
    "editable": true
   },
   "outputs": [
    {
     "name": "stdout",
     "output_type": "stream",
     "text": [
      "<class 'geopandas.geodataframe.GeoDataFrame'>\n",
      "Int64Index: 25 entries, 11 to 19\n",
      "Data columns (total 13 columns):\n",
      "listing_id            25 non-null int64\n",
      "name                  25 non-null object\n",
      "timestamp             25 non-null object\n",
      "number_of_comments    25 non-null int64\n",
      "minimum_nights        25 non-null int64\n",
      "average_rating        25 non-null float64\n",
      "airbnb_listing_url    25 non-null object\n",
      "listing_updated       25 non-null object\n",
      "calendar_updated      25 non-null object\n",
      "comment_update        25 non-null object\n",
      "geometry              25 non-null geometry\n",
      "location              25 non-null object\n",
      "address               25 non-null object\n",
      "dtypes: float64(1), geometry(1), int64(3), object(8)\n",
      "memory usage: 2.7+ KB\n"
     ]
    }
   ],
   "source": [
    "listings_df_sample.info()"
   ]
  },
  {
   "cell_type": "code",
   "execution_count": 28,
   "metadata": {
    "collapsed": false,
    "deletable": true,
    "editable": true
   },
   "outputs": [
    {
     "data": {
      "text/html": [
       "<div>\n",
       "<style scoped>\n",
       "    .dataframe tbody tr th:only-of-type {\n",
       "        vertical-align: middle;\n",
       "    }\n",
       "\n",
       "    .dataframe tbody tr th {\n",
       "        vertical-align: top;\n",
       "    }\n",
       "\n",
       "    .dataframe thead th {\n",
       "        text-align: right;\n",
       "    }\n",
       "</style>\n",
       "<table border=\"1\" class=\"dataframe\">\n",
       "  <thead>\n",
       "    <tr style=\"text-align: right;\">\n",
       "      <th></th>\n",
       "      <th>listing_id</th>\n",
       "      <th>name</th>\n",
       "      <th>timestamp</th>\n",
       "      <th>number_of_comments</th>\n",
       "      <th>minimum_nights</th>\n",
       "      <th>average_rating</th>\n",
       "      <th>airbnb_listing_url</th>\n",
       "      <th>listing_updated</th>\n",
       "      <th>calendar_updated</th>\n",
       "      <th>comment_update</th>\n",
       "      <th>geometry</th>\n",
       "      <th>location</th>\n",
       "      <th>address</th>\n",
       "    </tr>\n",
       "  </thead>\n",
       "  <tbody>\n",
       "    <tr>\n",
       "      <td>11</td>\n",
       "      <td>732018</td>\n",
       "      <td>Apt1- Welcoming city home with pool</td>\n",
       "      <td>2020-01-17T18:44:32</td>\n",
       "      <td>109</td>\n",
       "      <td>2</td>\n",
       "      <td>4.69</td>\n",
       "      <td>https://www.airbnb.co.uk/rooms/732018</td>\n",
       "      <td>2020-02-24T20:18:36</td>\n",
       "      <td>2020-02-25T19:24:12</td>\n",
       "      <td>2020-02-18T06:17:41</td>\n",
       "      <td>POINT (-3.21890 55.94196)</td>\n",
       "      <td>(43, Caledonian Crescent, Ardmillan, Dalry, Ed...</td>\n",
       "      <td>43, Caledonian Crescent, Ardmillan, Dalry, Edi...</td>\n",
       "    </tr>\n",
       "    <tr>\n",
       "      <td>6</td>\n",
       "      <td>10762221</td>\n",
       "      <td>Modern 3 Bed Flat near Haymarket - FREE PARKING</td>\n",
       "      <td>2020-01-17T18:44:26</td>\n",
       "      <td>172</td>\n",
       "      <td>2</td>\n",
       "      <td>4.82</td>\n",
       "      <td>https://www.airbnb.co.uk/rooms/10762221</td>\n",
       "      <td>2020-02-24T20:16:18</td>\n",
       "      <td>2020-02-25T19:21:54</td>\n",
       "      <td>2020-02-18T06:01:18</td>\n",
       "      <td>POINT (-3.22562 55.94285)</td>\n",
       "      <td>(3, Northcote Street, Dalry, Edinburgh, City o...</td>\n",
       "      <td>3, Northcote Street, Dalry, Edinburgh, City of...</td>\n",
       "    </tr>\n",
       "    <tr>\n",
       "      <td>15</td>\n",
       "      <td>34245374</td>\n",
       "      <td>Double room in ground floor apartment in Hayma...</td>\n",
       "      <td>2020-01-17T18:44:56</td>\n",
       "      <td>4</td>\n",
       "      <td>2</td>\n",
       "      <td>5.00</td>\n",
       "      <td>https://www.airbnb.co.uk/rooms/34245374</td>\n",
       "      <td>2020-02-24T20:23:12</td>\n",
       "      <td>2020-02-25T19:28:51</td>\n",
       "      <td>2020-02-13T21:43:59</td>\n",
       "      <td>POINT (-3.22603 55.94293)</td>\n",
       "      <td>(1, Northcote Street, Dalry, Edinburgh, City o...</td>\n",
       "      <td>1, Northcote Street, Dalry, Edinburgh, City of...</td>\n",
       "    </tr>\n",
       "    <tr>\n",
       "      <td>18</td>\n",
       "      <td>37858799</td>\n",
       "      <td>Superb main door one bedroom flat</td>\n",
       "      <td>2020-01-17T18:44:56</td>\n",
       "      <td>21</td>\n",
       "      <td>2</td>\n",
       "      <td>4.89</td>\n",
       "      <td>https://www.airbnb.co.uk/rooms/37858799</td>\n",
       "      <td>2020-02-24T20:23:29</td>\n",
       "      <td>2020-02-25T19:29:06</td>\n",
       "      <td>2020-02-13T21:55:42</td>\n",
       "      <td>POINT (-3.22489 55.94070)</td>\n",
       "      <td>(2, Murieston Crescent Lane, Murieston, Dalry,...</td>\n",
       "      <td>2, Murieston Crescent Lane, Murieston, Dalry, ...</td>\n",
       "    </tr>\n",
       "    <tr>\n",
       "      <td>24</td>\n",
       "      <td>18754599</td>\n",
       "      <td>Central 1 BR Apartment With Links To Airport</td>\n",
       "      <td>2020-01-17T18:44:56</td>\n",
       "      <td>24</td>\n",
       "      <td>2</td>\n",
       "      <td>4.30</td>\n",
       "      <td>https://www.airbnb.co.uk/rooms/18754599</td>\n",
       "      <td>2020-02-24T20:23:54</td>\n",
       "      <td>2020-02-25T19:29:33</td>\n",
       "      <td>2020-02-13T21:56:16</td>\n",
       "      <td>POINT (-3.22551 55.94227)</td>\n",
       "      <td>(29, Duff Street, Dalry, Edinburgh, City of Ed...</td>\n",
       "      <td>29, Duff Street, Dalry, Edinburgh, City of Edi...</td>\n",
       "    </tr>\n",
       "  </tbody>\n",
       "</table>\n",
       "</div>"
      ],
      "text/plain": [
       "    listing_id                                               name  \\\n",
       "11      732018                Apt1- Welcoming city home with pool   \n",
       "6     10762221    Modern 3 Bed Flat near Haymarket - FREE PARKING   \n",
       "15    34245374  Double room in ground floor apartment in Hayma...   \n",
       "18    37858799                  Superb main door one bedroom flat   \n",
       "24    18754599       Central 1 BR Apartment With Links To Airport   \n",
       "\n",
       "              timestamp  number_of_comments  minimum_nights  average_rating  \\\n",
       "11  2020-01-17T18:44:32                 109               2            4.69   \n",
       "6   2020-01-17T18:44:26                 172               2            4.82   \n",
       "15  2020-01-17T18:44:56                   4               2            5.00   \n",
       "18  2020-01-17T18:44:56                  21               2            4.89   \n",
       "24  2020-01-17T18:44:56                  24               2            4.30   \n",
       "\n",
       "                         airbnb_listing_url      listing_updated  \\\n",
       "11    https://www.airbnb.co.uk/rooms/732018  2020-02-24T20:18:36   \n",
       "6   https://www.airbnb.co.uk/rooms/10762221  2020-02-24T20:16:18   \n",
       "15  https://www.airbnb.co.uk/rooms/34245374  2020-02-24T20:23:12   \n",
       "18  https://www.airbnb.co.uk/rooms/37858799  2020-02-24T20:23:29   \n",
       "24  https://www.airbnb.co.uk/rooms/18754599  2020-02-24T20:23:54   \n",
       "\n",
       "       calendar_updated       comment_update                   geometry  \\\n",
       "11  2020-02-25T19:24:12  2020-02-18T06:17:41  POINT (-3.21890 55.94196)   \n",
       "6   2020-02-25T19:21:54  2020-02-18T06:01:18  POINT (-3.22562 55.94285)   \n",
       "15  2020-02-25T19:28:51  2020-02-13T21:43:59  POINT (-3.22603 55.94293)   \n",
       "18  2020-02-25T19:29:06  2020-02-13T21:55:42  POINT (-3.22489 55.94070)   \n",
       "24  2020-02-25T19:29:33  2020-02-13T21:56:16  POINT (-3.22551 55.94227)   \n",
       "\n",
       "                                             location  \\\n",
       "11  (43, Caledonian Crescent, Ardmillan, Dalry, Ed...   \n",
       "6   (3, Northcote Street, Dalry, Edinburgh, City o...   \n",
       "15  (1, Northcote Street, Dalry, Edinburgh, City o...   \n",
       "18  (2, Murieston Crescent Lane, Murieston, Dalry,...   \n",
       "24  (29, Duff Street, Dalry, Edinburgh, City of Ed...   \n",
       "\n",
       "                                              address  \n",
       "11  43, Caledonian Crescent, Ardmillan, Dalry, Edi...  \n",
       "6   3, Northcote Street, Dalry, Edinburgh, City of...  \n",
       "15  1, Northcote Street, Dalry, Edinburgh, City of...  \n",
       "18  2, Murieston Crescent Lane, Murieston, Dalry, ...  \n",
       "24  29, Duff Street, Dalry, Edinburgh, City of Edi...  "
      ]
     },
     "execution_count": 28,
     "metadata": {},
     "output_type": "execute_result"
    }
   ],
   "source": [
    "listings_df_sample.head()"
   ]
  },
  {
   "cell_type": "markdown",
   "metadata": {
    "deletable": true,
    "editable": true
   },
   "source": [
    "##### Saving the Results\n",
    "\n",
    "If we wish, we can save the results now in many different formats. As our dataframe has spatial information, it is a good idea to save it in a format that is popular with GIS softwares.\n",
    "\n",
    "For QGIS, saving it as geojson is a good choise as it is one file and you can drag-and-drop it in it.\n",
    "\n",
    "Downsize of geojson formats is that it can has troubles saving binary information as the driver doesn't know how to serialise it (=textual representation) to save it. "
   ]
  },
  {
   "cell_type": "code",
   "execution_count": 31,
   "metadata": {
    "collapsed": false,
    "deletable": true,
    "editable": true
   },
   "outputs": [],
   "source": [
    "# drop the location column\n",
    "# to_save_df = listings_df.drop(columns='location',inplace=False)\n",
    "to_save_df = listings_df\n",
    "# and save it using the geoJSON driver. \n",
    "# geopandas is using Fiona library as a proxy to read and write geospatial files, so as it extends it can read and write \n",
    "# whatever fiona can. \n",
    "# you can find a lists of the drivers here: https://github.com/Toblerity/Fiona/blob/master/fiona/drvsupport.py\n",
    "\n",
    "to_save_df.to_file(\"listings.json\", driver='GeoJSON')"
   ]
  },
  {
   "cell_type": "markdown",
   "metadata": {
    "deletable": true,
    "editable": true
   },
   "source": [
    "\n"
   ]
  }
 ],
 "metadata": {
  "kernelspec": {
   "display_name": "Python 3",
   "language": "python",
   "name": "python3"
  },
  "language_info": {
   "codemirror_mode": {
    "name": "ipython",
    "version": 3
   },
   "file_extension": ".py",
   "mimetype": "text/x-python",
   "name": "python",
   "nbconvert_exporter": "python",
   "pygments_lexer": "ipython3",
   "version": "3.6.8"
  },
  "pycharm": {
   "stem_cell": {
    "cell_type": "raw",
    "metadata": {
     "collapsed": false
    },
    "source": []
   }
  }
 },
 "nbformat": 4,
 "nbformat_minor": 1
}
