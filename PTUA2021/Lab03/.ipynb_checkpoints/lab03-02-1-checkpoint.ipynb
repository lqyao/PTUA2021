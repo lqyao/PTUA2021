{
 "cells": [
  {
   "cell_type": "code",
   "execution_count": 9,
   "metadata": {},
   "outputs": [
    {
     "name": "stdout",
     "output_type": "stream",
     "text": [
      "please input the convergence criterion0.0000000001\n",
      "please input a sentinel value999999999\n",
      "3.1415926538581145\n"
     ]
    }
   ],
   "source": [
    "import random\n",
    "import math\n",
    "m=input(\"please input the convergence criterion\")\n",
    "n=input(\"please input a sentinel value\")\n",
    "j=0\n",
    "k=0\n",
    "m=float(m)\n",
    "n=int(n)\n",
    "for i in range(n):\n",
    "    j=j+1\n",
    "    a=random.uniform(-1,1)\n",
    "    b=random.uniform(-1,1)\n",
    "    c=a*a+b*b\n",
    "    if c<=1:\n",
    "        k=k+1\n",
    "        pai=4*k/j\n",
    "    else:\n",
    "        pai=4*k/j\n",
    "    if abs(pai-math.pi)/math.pi<=m:\n",
    "        print(pai)\n",
    "        break\n",
    "if j>=n:\n",
    "    print(\"Limit reached and the current estimate of Pi:\",pai)\n",
    "    print(\"The percentage difference between the current estimate of Pi and the true value:\",abs(pai-math.pi)/math.pi)"
   ]
  },
  {
   "cell_type": "markdown",
   "metadata": {},
   "source": [
    "In the code, we use the area to calculate the value of π, if we use volume to calculate, will we get a more accurate result at the same number of times?"
   ]
  }
 ],
 "metadata": {
  "kernelspec": {
   "display_name": "Python 3",
   "language": "python",
   "name": "python3"
  },
  "language_info": {
   "codemirror_mode": {
    "name": "ipython",
    "version": 3
   },
   "file_extension": ".py",
   "mimetype": "text/x-python",
   "name": "python",
   "nbconvert_exporter": "python",
   "pygments_lexer": "ipython3",
   "version": "3.8.5"
  }
 },
 "nbformat": 4,
 "nbformat_minor": 4
}
