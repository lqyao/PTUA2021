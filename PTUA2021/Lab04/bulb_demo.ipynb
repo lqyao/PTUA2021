{
 "cells": [
  {
   "cell_type": "markdown",
   "metadata": {
    "deletable": true,
    "editable": true
   },
   "source": [
    "Recall how to call libraries - packages/modules written by others."
   ]
  },
  {
   "cell_type": "code",
   "execution_count": 1,
   "metadata": {
    "collapsed": false,
    "deletable": true,
    "editable": true,
    "jupyter": {
     "outputs_hidden": false
    }
   },
   "outputs": [
    {
     "data": {
      "text/plain": [
       "(4, 0.9362768249448763)"
      ]
     },
     "execution_count": 1,
     "metadata": {},
     "output_type": "execute_result"
    }
   ],
   "source": [
    "import random\n",
    "rand_int=random.randint(1,5)\n",
    "rand_flt=random.random()\n",
    "rand_int,rand_flt"
   ]
  },
  {
   "cell_type": "markdown",
   "metadata": {
    "deletable": true,
    "editable": true
   },
   "source": [
    "Some data types are written as 'modules' with methods to call"
   ]
  },
  {
   "cell_type": "code",
   "execution_count": 2,
   "metadata": {
    "collapsed": false,
    "deletable": true,
    "editable": true,
    "jupyter": {
     "outputs_hidden": false
    }
   },
   "outputs": [
    {
     "name": "stdout",
     "output_type": "stream",
     "text": [
      "<class 'int'>\n",
      "<class 'float'>\n",
      "<class 'str'>\n",
      "['I', 'am', 'a', 'chinese']\n",
      "<class 'list'>\n"
     ]
    }
   ],
   "source": [
    "a=1\n",
    "print(type(a))\n",
    "b=1.568\n",
    "print(type(b))\n",
    "c='I am a chinese'\n",
    "print(type(c))\n",
    "c_list=c.split()\n",
    "print (c_list)\n",
    "print(type(c_list))"
   ]
  },
  {
   "cell_type": "markdown",
   "metadata": {
    "deletable": true,
    "editable": true
   },
   "source": [
    "using what we have learned, we can define some light bulb having two status, on/off. How to turn them on?"
   ]
  },
  {
   "cell_type": "code",
   "execution_count": 3,
   "metadata": {
    "collapsed": false,
    "deletable": true,
    "editable": true,
    "jupyter": {
     "outputs_hidden": false
    }
   },
   "outputs": [
    {
     "name": "stdout",
     "output_type": "stream",
     "text": [
      "False\n",
      "True\n",
      "True\n"
     ]
    }
   ],
   "source": [
    "b1_switch=False\n",
    "print(b1_switch)\n",
    "b1_switch=True\n",
    "print(b1_switch)\n",
    "b2_swtich=True\n",
    "print(b2_swtich)"
   ]
  },
  {
   "cell_type": "markdown",
   "metadata": {
    "deletable": true,
    "editable": true
   },
   "source": [
    "We can define a function to turn any light on. This is something we learned last week."
   ]
  },
  {
   "cell_type": "code",
   "execution_count": 4,
   "metadata": {
    "collapsed": false,
    "deletable": true,
    "editable": true,
    "jupyter": {
     "outputs_hidden": false
    }
   },
   "outputs": [
    {
     "name": "stdout",
     "output_type": "stream",
     "text": [
      "False\n",
      "True\n",
      "False\n",
      "True\n"
     ]
    }
   ],
   "source": [
    "def bulb_switch_on(b):\n",
    "    if b==True:\n",
    "        return(True)\n",
    "    if b==False:\n",
    "        return(True)\n",
    "bulb1=False\n",
    "print(bulb1)\n",
    "print (bulb_switch_on(bulb1))\n",
    "\n",
    "bulb2=False\n",
    "print(bulb2)\n",
    "print (bulb_switch_on(bulb2))\n"
   ]
  },
  {
   "cell_type": "markdown",
   "metadata": {
    "deletable": true,
    "editable": true
   },
   "source": [
    "Using module concept, we transform the code into the following logic. A light bulb object has a switch, we can turn it on. we also can report it's status. Note the main() function to (a) instaintiate a light bulb object (b)call the method to turn it on etc. ALSO,  the __name__ variable tells python shell the execution point. With this stucture, if we copy this cell to a .py file, you can execute it as a standalone python file."
   ]
  },
  {
   "cell_type": "code",
   "execution_count": 5,
   "metadata": {
    "collapsed": false,
    "deletable": true,
    "editable": true,
    "jupyter": {
     "outputs_hidden": false
    }
   },
   "outputs": [
    {
     "name": "stdout",
     "output_type": "stream",
     "text": [
      "__main__\n",
      "this bulb is off\n",
      "this bulb is on\n"
     ]
    }
   ],
   "source": [
    "class bulb():\n",
    "    \n",
    "    'here is a test of defining bulb'\n",
    "def print_onoff(b):\n",
    "    if b.switch==True:\n",
    "        print ('this bulb is on')\n",
    "    else:\n",
    "        print ('this bulb is off')\n",
    "\n",
    "def bulb_switch_on(b):\n",
    "\n",
    "    if b.switch==True:\n",
    "        pass\n",
    "    if  b.switch==False:\n",
    "        b.switch=True\n",
    "        \n",
    "\n",
    "def main():\n",
    "    b1=bulb()\n",
    "    b1.switch=False\n",
    "#     print(b1.switch)\n",
    "    print_onoff(b1)\n",
    "    bulb_switch_on(b1)\n",
    "#     print(b1.switch)\n",
    "    print_onoff(b1)\n",
    "\n",
    "if __name__=='__main__':\n",
    "    print (__name__)\n",
    "    main()"
   ]
  },
  {
   "cell_type": "markdown",
   "metadata": {
    "deletable": true,
    "editable": true
   },
   "source": [
    "The following structure make the module more clear. We use __init_ function to declare variables that are bulb's switch status (defualt is false i.e. off) and bulb_name. Note the indentation of the 'functions'. They are nested into the module and becomes the 'methods' of a bulb. Also, note the way any bulb referring to 'self'! "
   ]
  },
  {
   "cell_type": "code",
   "execution_count": 6,
   "metadata": {
    "collapsed": false,
    "deletable": true,
    "editable": true,
    "jupyter": {
     "outputs_hidden": false
    }
   },
   "outputs": [
    {
     "ename": "NameError",
     "evalue": "name 'b1' is not defined",
     "output_type": "error",
     "traceback": [
      "\u001b[0;31m---------------------------------------------------------------------------\u001b[0m",
      "\u001b[0;31mNameError\u001b[0m                                 Traceback (most recent call last)",
      "\u001b[0;32m<ipython-input-6-1775c7894d8c>\u001b[0m in \u001b[0;36m<module>\u001b[0;34m\u001b[0m\n\u001b[1;32m     21\u001b[0m \u001b[0;34m\u001b[0m\u001b[0m\n\u001b[1;32m     22\u001b[0m \u001b[0;34m\u001b[0m\u001b[0m\n\u001b[0;32m---> 23\u001b[0;31m \u001b[0mprint\u001b[0m\u001b[0;34m(\u001b[0m\u001b[0mtype\u001b[0m\u001b[0;34m(\u001b[0m\u001b[0mb1\u001b[0m\u001b[0;34m)\u001b[0m\u001b[0;34m)\u001b[0m\u001b[0;34m\u001b[0m\u001b[0;34m\u001b[0m\u001b[0m\n\u001b[0m\u001b[1;32m     24\u001b[0m \u001b[0mb1\u001b[0m\u001b[0;34m=\u001b[0m\u001b[0mbulb\u001b[0m\u001b[0;34m(\u001b[0m\u001b[0;34m)\u001b[0m\u001b[0;34m\u001b[0m\u001b[0;34m\u001b[0m\u001b[0m\n\u001b[1;32m     25\u001b[0m \u001b[0mprint\u001b[0m\u001b[0;34m(\u001b[0m\u001b[0mb1\u001b[0m\u001b[0;34m.\u001b[0m\u001b[0mswitch\u001b[0m\u001b[0;34m)\u001b[0m\u001b[0;34m\u001b[0m\u001b[0;34m\u001b[0m\u001b[0m\n",
      "\u001b[0;31mNameError\u001b[0m: name 'b1' is not defined"
     ]
    }
   ],
   "source": [
    "class bulb():\n",
    "    'here is a test of defining bulb'\n",
    "    def __init__(self, onoff=False,bulb_name='a default bulb'):\n",
    "        self.switch=onoff\n",
    "        self.bulb_name=bulb_name\n",
    "    \n",
    "    def print_onoff(self):\n",
    "#         print (__name__)\n",
    "\n",
    "        if self.switch==True:\n",
    "            print ('this is %s. I am on'%self.bulb_name)\n",
    "        else:\n",
    "            print ('this is %s. I am off'%self.bulb_name)\n",
    "\n",
    "    def bulb_switch_on(self):\n",
    "\n",
    "        if self.switch==True:\n",
    "            pass\n",
    "        if self.switch==False:\n",
    "            self.switch=True\n",
    "            \n",
    "\n",
    "print(type(b1))\n",
    "b1=bulb()\n",
    "print(b1.switch)\n",
    "print (b1.bulb_name)\n",
    "b1=bulb(onoff=False,bulb_name='b1')\n",
    "print(b1.switch)\n",
    "print (b1.bulb_name)\n",
    "b1.switch=True\n",
    "print(b1.switch)\n",
    "b1.print_onoff()\n",
    "\n",
    "\n",
    "b1.switch=False\n",
    "print(b1.switch)\n",
    "b1.print_onoff()\n",
    "\n",
    "b1.bulb_switch_on()\n",
    "print(b1.switch)\n",
    "b1.print_onoff()\n",
    "\n"
   ]
  },
  {
   "cell_type": "markdown",
   "metadata": {
    "deletable": true,
    "editable": true
   },
   "source": [
    "The above way of defining a moduel can be imported just as previous 'random' library. Try to copy the class, store it as .py file in the same folder of your python shell. You can import the bulb module and instanticate it without worry about the details of defining it. "
   ]
  },
  {
   "cell_type": "code",
   "execution_count": null,
   "metadata": {
    "collapsed": false,
    "deletable": true,
    "editable": true,
    "jupyter": {
     "outputs_hidden": false
    }
   },
   "outputs": [],
   "source": [
    "from importlib import reload\n",
    "import bulb_class3\n",
    "reload(bulb_class3)\n",
    "\n",
    "print(__name__)\n",
    "b2=bulb_class3.bulb(bulb_name='b2')\n",
    "# print (b2)\n",
    "print(b2.switch)\n",
    "b2.print_onoff()\n",
    "# # print(id(b1),id(b2))\n",
    "# b2.bulb_switch_on()\n",
    "# b2.print_onoff()"
   ]
  }
 ],
 "metadata": {
  "kernelspec": {
   "display_name": "Python 3",
   "language": "python",
   "name": "python3"
  },
  "language_info": {
   "codemirror_mode": {
    "name": "ipython",
    "version": 3
   },
   "file_extension": ".py",
   "mimetype": "text/x-python",
   "name": "python",
   "nbconvert_exporter": "python",
   "pygments_lexer": "ipython3",
   "version": "3.7.6"
  }
 },
 "nbformat": 4,
 "nbformat_minor": 4
}
